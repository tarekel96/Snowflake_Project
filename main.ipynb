{
 "cells": [
  {
   "cell_type": "code",
   "execution_count": 76,
   "metadata": {},
   "outputs": [],
   "source": [
    "import os\n",
    "from dotenv import load_dotenv\n",
    "\n",
    "import pandas as pd\n",
    "import numpy as np\n",
    "from sklearn.linear_model import LinearRegression\n",
    "\n",
    "from snowflake.connector import connect"
   ]
  },
  {
   "cell_type": "code",
   "execution_count": 77,
   "metadata": {},
   "outputs": [
    {
     "data": {
      "text/plain": [
       "True"
      ]
     },
     "execution_count": 77,
     "metadata": {},
     "output_type": "execute_result"
    }
   ],
   "source": [
    "load_dotenv()"
   ]
  },
  {
   "cell_type": "code",
   "execution_count": 78,
   "metadata": {},
   "outputs": [],
   "source": [
    "username = os.environ.get('SNOWFLAKE_USERNAME')\n",
    "password = os.environ.get('SNOWFLAKE_PASSWORD')\n",
    "account = os.environ.get('SNOWFLAKE_ACCOUNT')"
   ]
  },
  {
   "cell_type": "code",
   "execution_count": 79,
   "metadata": {},
   "outputs": [],
   "source": [
    "con = connect(\n",
    "    user=username,\n",
    "    password=password,\n",
    "    account=account\n",
    ")"
   ]
  },
  {
   "cell_type": "code",
   "execution_count": 80,
   "metadata": {},
   "outputs": [
    {
     "data": {
      "text/plain": [
       "<snowflake.connector.connection.SnowflakeConnection at 0x7f8d98964460>"
      ]
     },
     "execution_count": 80,
     "metadata": {},
     "output_type": "execute_result"
    }
   ],
   "source": [
    "con"
   ]
  },
  {
   "cell_type": "code",
   "execution_count": 81,
   "metadata": {},
   "outputs": [],
   "source": [
    "cursor = con.cursor()"
   ]
  },
  {
   "cell_type": "code",
   "execution_count": 82,
   "metadata": {},
   "outputs": [],
   "source": [
    "def run_sql(cursor, query, single_row=False, print_results=False):\n",
    "    exe = cursor.execute(query)\n",
    "    print(f\"Execution: {exe}\")\n",
    "    if single_row is True:\n",
    "        result = cursor.fetchone()\n",
    "        if print_results is True: print(f\"Result: {result}\")\n",
    "        return result\n",
    "    results = cursor.fetchall()\n",
    "    if print_results is True: print(f\"Results: {results}\")\n",
    "    return results\n",
    "    "
   ]
  },
  {
   "cell_type": "code",
   "execution_count": 83,
   "metadata": {},
   "outputs": [
    {
     "name": "stdout",
     "output_type": "stream",
     "text": [
      "Execution: <snowflake.connector.cursor.SnowflakeCursor object at 0x7f8d98964100>\n"
     ]
    },
    {
     "data": {
      "text/plain": [
       "[('Statement executed successfully.',)]"
      ]
     },
     "execution_count": 83,
     "metadata": {},
     "output_type": "execute_result"
    }
   ],
   "source": [
    "run_sql(cursor, \"USE WAREHOUSE COMPUTE_WH\")"
   ]
  },
  {
   "cell_type": "code",
   "execution_count": 84,
   "metadata": {},
   "outputs": [
    {
     "name": "stdout",
     "output_type": "stream",
     "text": [
      "Execution: <snowflake.connector.cursor.SnowflakeCursor object at 0x7f8d98964100>\n"
     ]
    },
    {
     "data": {
      "text/plain": [
       "[('Statement executed successfully.',)]"
      ]
     },
     "execution_count": 84,
     "metadata": {},
     "output_type": "execute_result"
    }
   ],
   "source": [
    "run_sql(cursor,'USE DATABASE AIRBNB_CALENDAR_LISTINGS_SAMPLE')"
   ]
  },
  {
   "cell_type": "code",
   "execution_count": 85,
   "metadata": {},
   "outputs": [],
   "source": [
    "practice_query = \"\"\"\n",
    "                SELECT DISTINCT \n",
    "                    c.\"listing_id\", c.\"price\", p.\"reviews_count\", p.\"city\", \n",
    "                    p.\"room_type_category\", p.\"space_type\", p.\"bedrooms\", p.\"bathrooms\"\n",
    "                FROM \"AIRBNB_CALENDAR_SAMPLE\" c\n",
    "                JOIN \"AIRBNB_LISTINGS_SAMPLE\" p ON p.\"listing_id\" = c.\"listing_id\" AND p.\"crawled_at_ds\" = c.\"ds\"\n",
    "                WHERE \n",
    "                    c.\"price\" IS NOT NULL\n",
    "                        AND\n",
    "                    c.\"currency\" = 'USD'\n",
    "                ORDER BY c.\"price\" DESC\n",
    "                --LIMIT 1000000\n",
    "                \"\"\""
   ]
  },
  {
   "cell_type": "code",
   "execution_count": 86,
   "metadata": {},
   "outputs": [
    {
     "name": "stdout",
     "output_type": "stream",
     "text": [
      "Execution: <snowflake.connector.cursor.SnowflakeCursor object at 0x7f8d98964100>\n"
     ]
    }
   ],
   "source": [
    "data = run_sql(cursor, practice_query)"
   ]
  },
  {
   "cell_type": "code",
   "execution_count": 87,
   "metadata": {},
   "outputs": [
    {
     "data": {
      "text/plain": [
       "2589842"
      ]
     },
     "execution_count": 87,
     "metadata": {},
     "output_type": "execute_result"
    }
   ],
   "source": [
    "len(data)"
   ]
  },
  {
   "cell_type": "code",
   "execution_count": 88,
   "metadata": {},
   "outputs": [],
   "source": [
    "column_names = ['listing_id', 'price', 'review_counts',\\\n",
    "                'city', 'room_type_category', 'space_type', 'bedrooms', 'bathrooms']"
   ]
  },
  {
   "cell_type": "code",
   "execution_count": 89,
   "metadata": {},
   "outputs": [],
   "source": [
    "df_airbnb = pd.DataFrame(data, columns=column_names)"
   ]
  },
  {
   "cell_type": "code",
   "execution_count": 90,
   "metadata": {},
   "outputs": [
    {
     "data": {
      "text/html": [
       "<div>\n",
       "<style scoped>\n",
       "    .dataframe tbody tr th:only-of-type {\n",
       "        vertical-align: middle;\n",
       "    }\n",
       "\n",
       "    .dataframe tbody tr th {\n",
       "        vertical-align: top;\n",
       "    }\n",
       "\n",
       "    .dataframe thead th {\n",
       "        text-align: right;\n",
       "    }\n",
       "</style>\n",
       "<table border=\"1\" class=\"dataframe\">\n",
       "  <thead>\n",
       "    <tr style=\"text-align: right;\">\n",
       "      <th></th>\n",
       "      <th>listing_id</th>\n",
       "      <th>price</th>\n",
       "      <th>review_counts</th>\n",
       "      <th>city</th>\n",
       "      <th>room_type_category</th>\n",
       "      <th>space_type</th>\n",
       "      <th>bedrooms</th>\n",
       "      <th>bathrooms</th>\n",
       "    </tr>\n",
       "  </thead>\n",
       "  <tbody>\n",
       "    <tr>\n",
       "      <th>0</th>\n",
       "      <td>33196476</td>\n",
       "      <td>1983148</td>\n",
       "      <td>81</td>\n",
       "      <td></td>\n",
       "      <td>entire_home</td>\n",
       "      <td>Entire rental unit</td>\n",
       "      <td>4.0</td>\n",
       "      <td>4.0</td>\n",
       "    </tr>\n",
       "    <tr>\n",
       "      <th>1</th>\n",
       "      <td>33196476</td>\n",
       "      <td>1272563</td>\n",
       "      <td>81</td>\n",
       "      <td></td>\n",
       "      <td>entire_home</td>\n",
       "      <td>Entire rental unit</td>\n",
       "      <td>4.0</td>\n",
       "      <td>4.0</td>\n",
       "    </tr>\n",
       "    <tr>\n",
       "      <th>2</th>\n",
       "      <td>40900114</td>\n",
       "      <td>60287</td>\n",
       "      <td>0</td>\n",
       "      <td>San Andrés</td>\n",
       "      <td>private_room</td>\n",
       "      <td>Hotel room</td>\n",
       "      <td>2.0</td>\n",
       "      <td>3.0</td>\n",
       "    </tr>\n",
       "    <tr>\n",
       "      <th>3</th>\n",
       "      <td>40900114</td>\n",
       "      <td>60053</td>\n",
       "      <td>0</td>\n",
       "      <td>San Andrés</td>\n",
       "      <td>private_room</td>\n",
       "      <td>Hotel room</td>\n",
       "      <td>2.0</td>\n",
       "      <td>3.0</td>\n",
       "    </tr>\n",
       "    <tr>\n",
       "      <th>4</th>\n",
       "      <td>40900114</td>\n",
       "      <td>59829</td>\n",
       "      <td>0</td>\n",
       "      <td>San Andrés</td>\n",
       "      <td>private_room</td>\n",
       "      <td>Hotel room</td>\n",
       "      <td>2.0</td>\n",
       "      <td>3.0</td>\n",
       "    </tr>\n",
       "  </tbody>\n",
       "</table>\n",
       "</div>"
      ],
      "text/plain": [
       "   listing_id    price  review_counts        city room_type_category  \\\n",
       "0    33196476  1983148             81                    entire_home   \n",
       "1    33196476  1272563             81                    entire_home   \n",
       "2    40900114    60287              0  San Andrés       private_room   \n",
       "3    40900114    60053              0  San Andrés       private_room   \n",
       "4    40900114    59829              0  San Andrés       private_room   \n",
       "\n",
       "           space_type  bedrooms  bathrooms  \n",
       "0  Entire rental unit       4.0        4.0  \n",
       "1  Entire rental unit       4.0        4.0  \n",
       "2          Hotel room       2.0        3.0  \n",
       "3          Hotel room       2.0        3.0  \n",
       "4          Hotel room       2.0        3.0  "
      ]
     },
     "execution_count": 90,
     "metadata": {},
     "output_type": "execute_result"
    }
   ],
   "source": [
    "df_airbnb.head()"
   ]
  },
  {
   "cell_type": "code",
   "execution_count": 92,
   "metadata": {},
   "outputs": [
    {
     "name": "stdout",
     "output_type": "stream",
     "text": [
      "-0.01663597606288046\n"
     ]
    }
   ],
   "source": [
    "col1, col2 = \"price\", \"review_counts\"\n",
    "corr = df_airbnb[col1].corr(df_airbnb[col2])\n",
    "print(corr)"
   ]
  },
  {
   "cell_type": "code",
   "execution_count": 93,
   "metadata": {},
   "outputs": [
    {
     "name": "stdout",
     "output_type": "stream",
     "text": [
      "0.06512141814911311\n"
     ]
    }
   ],
   "source": [
    "col1, col2 = \"price\", \"bedrooms\"\n",
    "corr = df_airbnb[col1].corr(df_airbnb[col2])\n",
    "print(corr)"
   ]
  },
  {
   "cell_type": "code",
   "execution_count": 94,
   "metadata": {},
   "outputs": [
    {
     "name": "stdout",
     "output_type": "stream",
     "text": [
      "0.05741000671447289\n"
     ]
    }
   ],
   "source": [
    "col1, col2 = \"price\", \"bathrooms\"\n",
    "corr = df_airbnb[col1].corr(df_airbnb[col2])\n",
    "print(corr)"
   ]
  },
  {
   "cell_type": "code",
   "execution_count": null,
   "metadata": {},
   "outputs": [],
   "source": []
  }
 ],
 "metadata": {
  "kernelspec": {
   "display_name": "Python 3",
   "language": "python",
   "name": "python3"
  },
  "language_info": {
   "codemirror_mode": {
    "name": "ipython",
    "version": 3
   },
   "file_extension": ".py",
   "mimetype": "text/x-python",
   "name": "python",
   "nbconvert_exporter": "python",
   "pygments_lexer": "ipython3",
   "version": "3.8.8"
  },
  "vscode": {
   "interpreter": {
    "hash": "aee8b7b246df8f9039afb4144a1f6fd8d2ca17a180786b69acc140d282b71a49"
   }
  }
 },
 "nbformat": 4,
 "nbformat_minor": 2
}
